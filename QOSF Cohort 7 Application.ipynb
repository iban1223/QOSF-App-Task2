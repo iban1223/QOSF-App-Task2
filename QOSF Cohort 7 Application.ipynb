{
 "cells": [
  {
   "cell_type": "markdown",
   "id": "0bc432b6",
   "metadata": {},
   "source": [
    "# Quantum Rectangle Identifier\n",
    "The code below contains the function:    \n",
    "    -isRect([int], [int], [int], [int]) that when called will return whether the inputted numbers can define a rectangle or not   \n",
    "    -The functions needed to run isRect()   \n",
    "    -Code for testing isRect()"
   ]
  },
  {
   "cell_type": "markdown",
   "id": "ddf4cfba",
   "metadata": {},
   "source": [
    "## Imports"
   ]
  },
  {
   "cell_type": "code",
   "execution_count": 1,
   "id": "f10e9adb",
   "metadata": {},
   "outputs": [],
   "source": [
    "import qiskit\n",
    "import random\n",
    "import math\n",
    "import pandas as pd\n",
    "import matplotlib.pyplot as plt\n",
    "import numpy as np"
   ]
  },
  {
   "cell_type": "code",
   "execution_count": 2,
   "id": "048550d5",
   "metadata": {},
   "outputs": [],
   "source": [
    "#Importing from qiskit\n",
    "from qiskit import QuantumCircuit, ClassicalRegister, QuantumRegister, execute, Aer, IBMQ\n",
    "from qiskit.compiler import transpile, assemble\n",
    "from qiskit.tools.jupyter import *\n",
    "from qiskit.visualization import *"
   ]
  },
  {
   "cell_type": "markdown",
   "id": "de6bc2b2",
   "metadata": {},
   "source": [
    "## Functions needed for isRect()\n",
    "XOR() applies an xor to qubit [a] and [b] storing result in [output]"
   ]
  },
  {
   "cell_type": "code",
   "execution_count": 3,
   "id": "61488242",
   "metadata": {},
   "outputs": [],
   "source": [
    "#XOR\n",
    "def XOR(qc, a, b, output):\n",
    "    qc.cx(a, output)\n",
    "    qc.cx(b, output)"
   ]
  },
  {
   "cell_type": "markdown",
   "id": "f2a8bf95",
   "metadata": {},
   "source": [
    "comp() will generate the quantum circuit needed to compare two numbers stored in qubits as binary"
   ]
  },
  {
   "cell_type": "code",
   "execution_count": 4,
   "id": "de084e4f",
   "metadata": {},
   "outputs": [],
   "source": [
    "#Compare Nums\n",
    "def comp(qc, reg0, reg1, regC, outQ, n):\n",
    "    #Comparing bits in reg0 and reg1 storing result in regC 1 = same 0 = different\n",
    "    i=0\n",
    "    while i<n:\n",
    "        XOR(qc, reg0[i], reg1[i], regC[i])\n",
    "        qc.x(regC[i])\n",
    "        i+=1\n",
    "    #If the two numbers are the same storing 1 in outQ 0 if not\n",
    "    qc.mct(regC, outQ)\n",
    "    #Resetting regC\n",
    "    i=0\n",
    "    while i<n:\n",
    "        XOR(qc, reg0[i], reg1[i], regC[i])\n",
    "        qc.x(regC[i])\n",
    "        i+=1\n",
    "    return qc"
   ]
  },
  {
   "cell_type": "markdown",
   "id": "fb1c6e5f",
   "metadata": {},
   "source": [
    "isEqual() will generate the quantum circuit needed to check if any of 4 numbers equals another of the 4 numbers"
   ]
  },
  {
   "cell_type": "code",
   "execution_count": 5,
   "id": "6f76880d",
   "metadata": {},
   "outputs": [],
   "source": [
    "#Check Equality\n",
    "def isEqual(qc, a_qubits, b_qubits, c_qubits, d_qubits, comp_qubits, out_qubits, num, n):\n",
    "    qc = comp(qc, a_qubits, b_qubits, comp_qubits, out_qubits[num], n)\n",
    "    qc = comp(qc, a_qubits, c_qubits, comp_qubits, out_qubits[num+1], n)\n",
    "    qc = comp(qc, a_qubits, d_qubits, comp_qubits, out_qubits[num+2], n)\n",
    "    return qc"
   ]
  },
  {
   "cell_type": "markdown",
   "id": "e95c358e",
   "metadata": {},
   "source": [
    "inputBits() will take in a quantum circuit, a quantum register, and a string of 0s and 1s representing a binary number and return the quantum circuit that stores the string in the register"
   ]
  },
  {
   "cell_type": "code",
   "execution_count": 6,
   "id": "2a1cb613",
   "metadata": {},
   "outputs": [],
   "source": [
    "#Fill qubits\n",
    "def inputBits(qc, reg, string):\n",
    "    i=0\n",
    "    for c in string:\n",
    "        if int(c) == 1:\n",
    "            qc.x(reg[i])\n",
    "        i+=1\n",
    "    return qc"
   ]
  },
  {
   "cell_type": "markdown",
   "id": "7a0c89e1",
   "metadata": {},
   "source": [
    "qTemp() is the overall function that generates the quantum circuit for isRect()"
   ]
  },
  {
   "cell_type": "code",
   "execution_count": 7,
   "id": "a460ea24",
   "metadata": {},
   "outputs": [],
   "source": [
    "#Quantum Function - PreCircuit?\n",
    "def qTemp(items):\n",
    "    length = len(items)\n",
    "    n = len(items[0])\n",
    "    cbits = ClassicalRegister(12, name='cbits')\n",
    "    \n",
    "    #Creating Seperate registers for each variable\n",
    "    a_qubits = QuantumRegister(n, name='a')\n",
    "    b_qubits = QuantumRegister(n, name='b')\n",
    "    c_qubits = QuantumRegister(n, name='c')\n",
    "    d_qubits = QuantumRegister(n, name='d')\n",
    "    comp_qubits = QuantumRegister(n, name='comp')\n",
    "    out_qubits = QuantumRegister(12, name='outs')\n",
    "    out_qubit = QuantumRegister(1, name='out')\n",
    "    cbit = ClassicalRegister(1, name='cbit')\n",
    "    qc = QuantumCircuit(a_qubits, b_qubits, c_qubits, d_qubits, comp_qubits, out_qubits, out_qubit, cbit)\n",
    "    \n",
    "    #Inputing values into circuit\n",
    "    qc = inputBits(qc, a_qubits, items[0])\n",
    "    qc = inputBits(qc, a_qubits, items[1])\n",
    "    qc = inputBits(qc, a_qubits, items[2])\n",
    "    qc = inputBits(qc, a_qubits, items[3])\n",
    "    \n",
    "    #Computing\n",
    "    qc = isEqual(qc, a_qubits, b_qubits, c_qubits, d_qubits, comp_qubits, out_qubits, 0, n)\n",
    "    qc = isEqual(qc, b_qubits, a_qubits, c_qubits, d_qubits, comp_qubits, out_qubits, 3, n)\n",
    "    qc = isEqual(qc, c_qubits, b_qubits, a_qubits, d_qubits, comp_qubits, out_qubits, 6, n)\n",
    "    qc = isEqual(qc, d_qubits, b_qubits, c_qubits, a_qubits, comp_qubits, out_qubits, 9, n)\n",
    "    \n",
    "    qc.mct(out_qubits, out_qubit)\n",
    "    \n",
    "    #Measuring\n",
    "    qc.measure(out_qubit, cbit)\n",
    "    qc.draw(output='mpl', filename='my_circuit.png')\n",
    "    sim(qc)\n",
    "    return sim(qc)"
   ]
  },
  {
   "cell_type": "markdown",
   "id": "38dd2f7d",
   "metadata": {},
   "source": [
    "sim() will simulate the quantum circuit generated by qTemp() to gain the results"
   ]
  },
  {
   "cell_type": "code",
   "execution_count": 8,
   "id": "e38e6952",
   "metadata": {},
   "outputs": [],
   "source": [
    "#Circuit Simulator\n",
    "def sim(qc):\n",
    "    aer_sim = Aer.get_backend('aer_simulator')\n",
    "    qobj = assemble(qc)\n",
    "    result = aer_sim.run(qobj).result()\n",
    "    counts = result.get_counts()\n",
    "    return counts"
   ]
  },
  {
   "cell_type": "markdown",
   "id": "1f55283f",
   "metadata": {},
   "source": [
    "## isRect([int], [int], [int], [int])\n",
    "isRect() will return a 1 if the four inputted ints can define a rectangle and a 0 if the four inputted ints cannot define a rectangle"
   ]
  },
  {
   "cell_type": "code",
   "execution_count": 11,
   "id": "e92517e0",
   "metadata": {},
   "outputs": [],
   "source": [
    "#Rectangle finding Function\n",
    "def isRect(a, b, c, d):\n",
    "    \n",
    "    #converting to binary\n",
    "    a = format(a,'b')\n",
    "    b = format(b,'b')\n",
    "    c = format(c,'b')\n",
    "    d = format(d,'b')\n",
    "    sides = [a,b,c,d]\n",
    "    \n",
    "    #padding to make all the same length\n",
    "    length = len(a)\n",
    "    for i in sides:\n",
    "        if len(i) > length:\n",
    "            length = len(i)\n",
    "    i = 0\n",
    "    while i < 4:\n",
    "        while len(sides[i]) < length:\n",
    "            sides[i] = '0'+sides[i]\n",
    "        i+=1\n",
    "    \n",
    "    #Determining if it is a rectangle\n",
    "    counts = qTemp(sides)\n",
    "    if '0' in counts:\n",
    "        return 0\n",
    "    return 1"
   ]
  },
  {
   "cell_type": "markdown",
   "id": "a03de6c2",
   "metadata": {},
   "source": [
    "## Code for Testing isRect()"
   ]
  },
  {
   "cell_type": "code",
   "execution_count": null,
   "id": "5a5f4eef",
   "metadata": {},
   "outputs": [
    {
     "name": "stdout",
     "output_type": "stream",
     "text": [
      "10\n",
      "7x3x3x1: 0\n",
      "7x7x3x3: 1\n"
     ]
    }
   ],
   "source": [
    "#Testing\n",
    "i = 10 #number of loops to test\n",
    "while i > 0:\n",
    "    print(i)\n",
    "    #Generating random numbers to test with\n",
    "    a = random.randint(1,7)\n",
    "    b = random.randint(1,7)\n",
    "    c = random.randint(1,7)\n",
    "    d = random.randint(1,7)\n",
    "    print(str(a) + \"x\" + str(b) + \"x\" + str(c) + \"x\" + str(d) + \": \" + str(isRect(a,b,c,d)))\n",
    "    print(str(a) + \"x\" + str(a) + \"x\" + str(b) + \"x\" + str(b) + \": \" + str(isRect(a,a,b,b)))\n",
    "    print(str(b) + \"x\" + str(a) + \"x\" + str(b) + \"x\" + str(a) + \": \" + str(isRect(a,b,c,d)))\n",
    "    print(str(a) + \"x\" + str(b) + \"x\" + str(b) + \"x\" + str(a) + \": \" + str(isRect(a,a,b,b)))\n",
    "    print(str(a) + \"x\" + str(a) + \"x\" + str(a) + \"x\" + str(a) + \": \" + str(isRect(a,a,b,b)))\n",
    "    i-=1"
   ]
  },
  {
   "cell_type": "markdown",
   "id": "6efe3da2",
   "metadata": {},
   "source": [
    "## Random Notes\n",
    "\n",
    "Using Qiskit's example of a Sudoku solver as an example I will make a rectangle identifier.\n",
    "Need to check if:\n",
    "a=b||a=c||a=d & b=c||b=d\n",
    "Where b/c equals the variable a does not.\n",
    "IDEA: Run Grover's alg twice \n",
    "  ~issue only know if there is a pair but not what it pairs with. Maybe run w/ QCounting =4 good =3 bad =2 check next =1 bad\n",
    "    1. Find A equivalence\n",
    "        If A has a pair then grover's alg should output 100% since we will only run it once, N<4 might do 50/50 if A matches two?\n",
    "    2. Find B/C equivalence"
   ]
  },
  {
   "cell_type": "markdown",
   "id": "f215ce9d",
   "metadata": {},
   "source": [
    "## Code unimplemented due to running out of time\n",
    "This code was going to be used to implement grovers algorithm but due to time constraints I was unable to apply it above"
   ]
  },
  {
   "cell_type": "code",
   "execution_count": null,
   "id": "a5fd160d",
   "metadata": {},
   "outputs": [],
   "source": [
    "#Apply Hadamard to every qubit in a given circuit\n",
    "def applyHadamard(qc, qubits):\n",
    "    for q in range(qubits):\n",
    "        qc.h(q)\n",
    "    return qc"
   ]
  },
  {
   "cell_type": "code",
   "execution_count": null,
   "id": "917d11e5",
   "metadata": {},
   "outputs": [],
   "source": [
    "#Apply x to every qubit in a given circuit\n",
    "def applyX(qc, qubits):\n",
    "    for q in range(qubits):\n",
    "        qc.x(q)\n",
    "    return qc"
   ]
  },
  {
   "cell_type": "code",
   "execution_count": null,
   "id": "3c0ff7b4",
   "metadata": {},
   "outputs": [],
   "source": [
    "#Apply Z to every qubit in a given circuit\n",
    "def applyZ(qc, qubits):\n",
    "    for q in range(qubits):\n",
    "        qc.z(q)\n",
    "    return qc"
   ]
  },
  {
   "cell_type": "code",
   "execution_count": null,
   "id": "0d965aaf",
   "metadata": {},
   "outputs": [],
   "source": [
    "#Quantum Function\n",
    "def qFun(items):\n",
    "    simulator = Aer.get_backend('aer_simulator') #Simulator\n",
    "    length = len(items) \n",
    "    n = len(items[0]) #how many qubits are needed\n",
    "    n = 3\n",
    "    #Circuit initialization\n",
    "    grover = QuantumCircuit(n)\n",
    "    grover = applyHadamard(grover, n)\n",
    "    #Applying Oracle\n",
    "    \n",
    "    #Applying Diffuser\n",
    "    grover = applyHadamard(grover, n) #Hadamard\n",
    "    grover = applyX(grover,n) #X\n",
    "    grover.h(n-1) #MultZ                   THIS MIGHT NOT BE CORRECT. IF ISSUES DELETE THIS LINE\n",
    "    grover.mct(list(range(n-1)), n-1) #MultZ\n",
    "    grover.h(n-1) #MultZ                   THIS MIGHT NOT BE CORRECT. IF ISSUES DELETE THIS LINE\n",
    "    grover = applyX(grover, n) #X\n",
    "    grover = applyHadamard(grover, n) #Hadamard\n",
    "    print(\"qFUN\")\n",
    "    grover.draw(output='mpl', filename='my_circuit.png')"
   ]
  }
 ],
 "metadata": {
  "kernelspec": {
   "display_name": "Python 3 (ipykernel)",
   "language": "python",
   "name": "python3"
  },
  "language_info": {
   "codemirror_mode": {
    "name": "ipython",
    "version": 3
   },
   "file_extension": ".py",
   "mimetype": "text/x-python",
   "name": "python",
   "nbconvert_exporter": "python",
   "pygments_lexer": "ipython3",
   "version": "3.9.7"
  }
 },
 "nbformat": 4,
 "nbformat_minor": 5
}
